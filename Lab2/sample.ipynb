{
 "cells": [
  {
   "cell_type": "code",
   "execution_count": 22,
   "id": "initial_id",
   "metadata": {
    "collapsed": true,
    "ExecuteTime": {
     "end_time": "2024-02-20T21:34:31.992078Z",
     "start_time": "2024-02-20T21:34:31.986900Z"
    }
   },
   "outputs": [],
   "source": [
    "import scipy.stats as sps\n",
    "import numpy as np\n",
    "import pandas as pd\n",
    "\n",
    "import matplotlib.pyplot as plt\n",
    "import matplotlib as mpl\n",
    "import seaborn as sns"
   ]
  },
  {
   "cell_type": "code",
   "outputs": [],
   "source": [
    "position_characteristics_for_all_N = {}\n",
    "for N in {10, 50, 1000}:\n",
    "    position_characteristics_for_all_N[N] = pd.DataFrame({\"sample_average\" : [],\n",
    "                                                          \"sample_median\" : [],\n",
    "                                                          \"half_sum_extreme_elements\" : [],\n",
    "                                                          \"half_sum_quartiles\" : [],\n",
    "                                                          \"truncated_average\" : []})\n",
    "    for i in range(1000):\n",
    "        temp_position_characteristics = []\n",
    "        sample = sps.norm.rvs(size=N)\n",
    "        # sample = sps.cauchy.rvs(size=N)\n",
    "        # sample = sps.uniform.rvs(size=N)\n",
    "        # sample = sps.poisson.rvs(mu = 10, size=N)\n",
    "        # sample = sps.t.rvs(df = 3, size=N)\n",
    "        sample.sort()\n",
    "        temp_position_characteristics.append(np.mean(sample))\n",
    "        temp_position_characteristics.append(np.median(sample))\n",
    "        temp_position_characteristics.append((sample[0] + sample[-1]) / 2)\n",
    "        temp_position_characteristics.append((np.quantile(sample, 0.25) + np.quantile(sample, 0.75)) / 2)\n",
    "        temp_position_characteristics.append(np.mean(sample[int(N * 0.25) : int(N * 0.75)]))\n",
    "\n",
    "        position_characteristics_for_all_N[N].loc[len(position_characteristics_for_all_N[N].index)] = temp_position_characteristics"
   ],
   "metadata": {
    "collapsed": false,
    "ExecuteTime": {
     "end_time": "2024-02-20T21:34:35.247547Z",
     "start_time": "2024-02-20T21:34:32.003612Z"
    }
   },
   "id": "e7ed0e908baeb11d",
   "execution_count": 23
  },
  {
   "cell_type": "code",
   "outputs": [],
   "source": [
    "results = pd.DataFrame()\n",
    "for N in {10, 50, 1000}:\n",
    "    results = pd.concat([results, position_characteristics_for_all_N[N].\n",
    "                        agg([\"mean\", lambda x: x.var(ddof=0)]).\n",
    "                        rename(index={\"mean\":f\"E(z) for N = {N}\", \"<lambda>\":f\"D(z) for N = {N}\"})])"
   ],
   "metadata": {
    "collapsed": false,
    "ExecuteTime": {
     "end_time": "2024-02-20T21:34:35.269433Z",
     "start_time": "2024-02-20T21:34:35.248551Z"
    }
   },
   "id": "1c2ea0a714a60f3b",
   "execution_count": 24
  },
  {
   "cell_type": "code",
   "outputs": [],
   "source": [
    "results.to_excel(\"results4.xlsx\")"
   ],
   "metadata": {
    "collapsed": false,
    "ExecuteTime": {
     "end_time": "2024-02-20T21:34:35.296168Z",
     "start_time": "2024-02-20T21:34:35.271441Z"
    }
   },
   "id": "1543f9a85ae65f97",
   "execution_count": 25
  }
 ],
 "metadata": {
  "kernelspec": {
   "display_name": "Python 3",
   "language": "python",
   "name": "python3"
  },
  "language_info": {
   "codemirror_mode": {
    "name": "ipython",
    "version": 2
   },
   "file_extension": ".py",
   "mimetype": "text/x-python",
   "name": "python",
   "nbconvert_exporter": "python",
   "pygments_lexer": "ipython2",
   "version": "2.7.6"
  }
 },
 "nbformat": 4,
 "nbformat_minor": 5
}
